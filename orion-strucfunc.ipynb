{
 "cells": [
  {
   "cell_type": "markdown",
   "id": "76ac303f-6701-4014-8d73-86492aad686d",
   "metadata": {},
   "source": [
    "# Structure function for inner Orion Nebula"
   ]
  },
  {
   "cell_type": "markdown",
   "id": "eab0cc0e-ba63-418b-b3cd-921d1a127bcc",
   "metadata": {},
   "source": [
    "This follows exactly the same steps as for NGC 346"
   ]
  },
  {
   "cell_type": "code",
   "execution_count": null,
   "id": "11332e8f-fd04-4088-947c-4ee6a1f5ba4a",
   "metadata": {},
   "outputs": [],
   "source": [
    "import numpy as np\n",
    "from astropy.io import fits"
   ]
  },
  {
   "cell_type": "code",
   "execution_count": 2,
   "id": "78f2ff17-2c01-4ebe-a23d-fd47a76ff406",
   "metadata": {},
   "outputs": [],
   "source": [
    "import sys\n",
    "sys.path.append(\"../muse-strucfunc\")\n",
    "import strucfunc"
   ]
  },
  {
   "cell_type": "code",
   "execution_count": 3,
   "id": "92480f06-0c49-4446-8f2b-a6e0e59a0f5e",
   "metadata": {},
   "outputs": [],
   "source": [
    "hdu = fits.open(\"data/Orion/DOHha_-040+070.wisomom-mean-xx.fits\")"
   ]
  },
  {
   "cell_type": "code",
   "execution_count": 4,
   "id": "78610420-a9a1-4832-bb28-e814a3125020",
   "metadata": {},
   "outputs": [
    {
     "name": "stdout",
     "output_type": "stream",
     "text": [
      "Filename: data/Orion/DOHha_-040+070.wisomom-mean-xx.fits\n",
      "No.    Name      Ver    Type      Cards   Dimensions   Format\n",
      "  0  PRIMARY       1 PrimaryHDU       9   (356, 514)   float32   \n"
     ]
    }
   ],
   "source": [
    "hdu.info()"
   ]
  },
  {
   "cell_type": "code",
   "execution_count": 7,
   "id": "1d4c0d18-3c97-4eae-bafc-90cf5f3ea07b",
   "metadata": {},
   "outputs": [],
   "source": [
    "vha = hdu[0].data.astype(float)"
   ]
  },
  {
   "cell_type": "code",
   "execution_count": 9,
   "id": "6b7cb691-170f-45d8-ac70-248554151176",
   "metadata": {},
   "outputs": [],
   "source": [
    "iha = fits.open(\n",
    "    \"data/Orion/DOHha_-040+070.wisomom-sum-xx.fits\"\n",
    ")[0].data.astype(float)"
   ]
  },
  {
   "cell_type": "code",
   "execution_count": 10,
   "id": "b167628f-4a58-4817-a0a9-1447e8a5ed36",
   "metadata": {},
   "outputs": [],
   "source": [
    "m = ~np.isfinite(iha * vha) | (iha < 0.0)\n",
    "iha[m] = 0.0\n",
    "vha[m] = np.nanmean(vha)\n",
    "iha /= iha.max()"
   ]
  },
  {
   "cell_type": "code",
   "execution_count": 57,
   "id": "e04cb4d0-8728-4861-a251-6668f679487b",
   "metadata": {},
   "outputs": [
    {
     "data": {
      "text/plain": [
       "\u001b[0;31mSignature:\u001b[0m\n",
       "\u001b[0mstrucfunc\u001b[0m\u001b[0;34m.\u001b[0m\u001b[0mstrucfunc_numba_parallel\u001b[0m\u001b[0;34m(\u001b[0m\u001b[0;34m\u001b[0m\n",
       "\u001b[0;34m\u001b[0m    \u001b[0mvmap\u001b[0m\u001b[0;34m,\u001b[0m\u001b[0;34m\u001b[0m\n",
       "\u001b[0;34m\u001b[0m    \u001b[0mdlogr\u001b[0m\u001b[0;34m=\u001b[0m\u001b[0;36m0.15\u001b[0m\u001b[0;34m,\u001b[0m\u001b[0;34m\u001b[0m\n",
       "\u001b[0;34m\u001b[0m    \u001b[0mwmap\u001b[0m\u001b[0;34m=\u001b[0m\u001b[0;32mNone\u001b[0m\u001b[0;34m,\u001b[0m\u001b[0;34m\u001b[0m\n",
       "\u001b[0;34m\u001b[0m    \u001b[0mwmin_factor\u001b[0m\u001b[0;34m=\u001b[0m\u001b[0;36m0.001\u001b[0m\u001b[0;34m,\u001b[0m\u001b[0;34m\u001b[0m\n",
       "\u001b[0;34m\u001b[0m\u001b[0;34m)\u001b[0m\u001b[0;34m\u001b[0m\u001b[0;34m\u001b[0m\u001b[0m\n",
       "\u001b[0;31mDocstring:\u001b[0m Calculate structure function via multithreaded numba algorithm\n",
       "\u001b[0;31mFile:\u001b[0m      ~/Dropbox/muse-strucfunc/strucfunc.py\n",
       "\u001b[0;31mType:\u001b[0m      function\n"
      ]
     },
     "metadata": {},
     "output_type": "display_data"
    }
   ],
   "source": [
    "strucfunc.strucfunc_numba_parallel?"
   ]
  },
  {
   "cell_type": "code",
   "execution_count": 59,
   "id": "9e76484a-4280-47e5-8613-de87cfd31c55",
   "metadata": {},
   "outputs": [],
   "source": [
    "sf = strucfunc.strucfunc_numba_parallel(vha, wmap=iha, dlogr=0.05)"
   ]
  },
  {
   "cell_type": "code",
   "execution_count": 60,
   "id": "51f22e8c-a9c5-4c8a-84f3-3b74ec569572",
   "metadata": {},
   "outputs": [
    {
     "data": {
      "text/plain": [
       "{'log10 r': array([0.  , 0.05, 0.1 , 0.15, 0.2 , 0.25, 0.3 , 0.35, 0.4 , 0.45, 0.5 ,\n",
       "        0.55, 0.6 , 0.65, 0.7 , 0.75, 0.8 , 0.85, 0.9 , 0.95, 1.  , 1.05,\n",
       "        1.1 , 1.15, 1.2 , 1.25, 1.3 , 1.35, 1.4 , 1.45, 1.5 , 1.55, 1.6 ,\n",
       "        1.65, 1.7 , 1.75, 1.8 , 1.85, 1.9 , 1.95, 2.  , 2.05, 2.1 , 2.15,\n",
       "        2.2 , 2.25, 2.3 , 2.35, 2.4 , 2.45, 2.5 , 2.55, 2.6 , 2.65, 2.7 ]),\n",
       " 'Sum dv^2': array([5.41907216e+03, 0.00000000e+00, 0.00000000e+00, 2.44343156e+04,\n",
       "        0.00000000e+00, 0.00000000e+00, 1.34470495e+05, 0.00000000e+00,\n",
       "        0.00000000e+00, 1.28999278e+05, 2.10739614e+05, 2.67041478e+05,\n",
       "        5.71519378e+05, 9.31889053e+05, 9.71085992e+05, 1.58714205e+06,\n",
       "        3.32127020e+06, 3.31354404e+06, 5.44754355e+06, 8.57729189e+06,\n",
       "        1.48072661e+07, 1.74814859e+07, 2.51645299e+07, 4.05749931e+07,\n",
       "        5.15730684e+07, 7.60332348e+07, 1.11944715e+08, 1.54991300e+08,\n",
       "        2.14549435e+08, 2.97966669e+08, 4.38511577e+08, 5.74557142e+08,\n",
       "        8.40905322e+08, 1.13284901e+09, 1.56315489e+09, 2.10457243e+09,\n",
       "        2.80806763e+09, 3.79938296e+09, 4.95656857e+09, 6.50704284e+09,\n",
       "        8.46755623e+09, 1.07460566e+10, 1.36480139e+10, 1.68640943e+10,\n",
       "        2.04856717e+10, 2.41562658e+10, 2.73620687e+10, 3.03385815e+10,\n",
       "        3.29992823e+10, 3.38233400e+10, 2.90403303e+10, 1.80132988e+10,\n",
       "        9.88936397e+09, 3.80362319e+09, 7.45998300e+08]),\n",
       " 'Sum weights': array([1.82262014e+04, 0.00000000e+00, 0.00000000e+00, 3.64177000e+04,\n",
       "        0.00000000e+00, 0.00000000e+00, 9.09125496e+04, 0.00000000e+00,\n",
       "        0.00000000e+00, 5.44567891e+04, 7.25729491e+04, 7.24633104e+04,\n",
       "        1.26677861e+05, 1.62530536e+05, 1.44341195e+05, 1.98041758e+05,\n",
       "        3.41224832e+05, 2.86560952e+05, 4.10994103e+05, 5.52079499e+05,\n",
       "        8.16091997e+05, 8.30016028e+05, 1.05493985e+06, 1.48637476e+06,\n",
       "        1.66915994e+06, 2.17655513e+06, 2.82990911e+06, 3.45232361e+06,\n",
       "        4.23008315e+06, 5.21977391e+06, 6.81962030e+06, 7.96067749e+06,\n",
       "        1.04127745e+07, 1.26015733e+07, 1.57358186e+07, 1.92641702e+07,\n",
       "        2.34657553e+07, 2.90694104e+07, 3.47672998e+07, 4.19025887e+07,\n",
       "        5.02303914e+07, 5.87414922e+07, 6.86500138e+07, 7.82930180e+07,\n",
       "        8.78982310e+07, 9.68448301e+07, 1.03275042e+08, 1.05905723e+08,\n",
       "        1.02191067e+08, 9.20632301e+07, 7.41320471e+07, 5.21553364e+07,\n",
       "        3.10661977e+07, 1.44228745e+07, 3.19457148e+06]),\n",
       " 'Sum w * dv^2': array([5.90146062e+02, 0.00000000e+00, 0.00000000e+00, 2.64964412e+03,\n",
       "        0.00000000e+00, 0.00000000e+00, 1.47857317e+04, 0.00000000e+00,\n",
       "        0.00000000e+00, 1.42731138e+04, 2.35626611e+04, 2.98575324e+04,\n",
       "        6.42612171e+04, 1.04808975e+05, 1.09942439e+05, 1.79154511e+05,\n",
       "        3.74600070e+05, 3.72790420e+05, 6.11551307e+05, 9.59636298e+05,\n",
       "        1.65270563e+06, 1.94144454e+06, 2.78710244e+06, 4.46708663e+06,\n",
       "        5.65515961e+06, 8.27679273e+06, 1.21057284e+07, 1.65838226e+07,\n",
       "        2.27329934e+07, 3.12223593e+07, 4.54732041e+07, 5.91229836e+07,\n",
       "        8.62947277e+07, 1.16284436e+08, 1.60854512e+08, 2.18224148e+08,\n",
       "        2.94387228e+08, 4.02278215e+08, 5.26683903e+08, 6.87575117e+08,\n",
       "        8.85580284e+08, 1.10867986e+09, 1.37695200e+09, 1.64184450e+09,\n",
       "        1.88871094e+09, 2.04860869e+09, 2.07889897e+09, 2.06932267e+09,\n",
       "        2.03324203e+09, 1.99727792e+09, 1.69392172e+09, 8.99729138e+08,\n",
       "        4.26585848e+08, 1.56017550e+08, 2.73253611e+07]),\n",
       " 'N pairs': array([    180405,          0,          0,     360106,          0,\n",
       "                 0,     898366,          0,          0,     537750,\n",
       "            716748,     715028,    1250534,    1603238,    1424872,\n",
       "           1954200,    3366545,    2825744,    4055338,    5447162,\n",
       "           8056700,    8191030,   10415180,   14670406,   16483658,\n",
       "          21487636,   27949620,   34079226,   41764968,   51530390,\n",
       "          67348968,   78658144,  102956516,  124675824,  155769462,\n",
       "         190928604,  232962294,  289358856,  347522496,  421869614,\n",
       "         512194356,  609046538,  728255707,  853377707,  989160597,\n",
       "        1131589796, 1264716738, 1382249474, 1447511404, 1433058965,\n",
       "        1286324535, 1038292397,  787331707,  466458652,  112604608]),\n",
       " 'Unweighted B(r)': array([ 0.03003837,         nan,         nan,  0.06785312,         nan,\n",
       "                nan,  0.14968342,         nan,         nan,  0.23988708,\n",
       "         0.29402191,  0.37346996,  0.45702026,  0.58125434,  0.68152507,\n",
       "         0.81216971,  0.98655155,  1.17262712,  1.34330198,  1.57463499,\n",
       "         1.83788227,  2.13422315,  2.4161397 ,  2.76577165,  3.12873929,\n",
       "         3.53846439,  4.00523208,  4.54797008,  5.13706691,  5.78234842,\n",
       "         6.51103632,  7.30448384,  8.16757749,  9.08635673, 10.03505352,\n",
       "        11.02282416, 12.05374302, 13.13034968, 14.26258337, 15.42429846,\n",
       "        16.53192022, 17.64406484, 18.74068919, 19.76158289, 20.71015744,\n",
       "        21.34719298, 21.63493842, 21.94870181, 22.79725207, 23.60219702,\n",
       "        22.57620803, 17.34896532, 12.56060677,  8.15425584,  6.62493581]),\n",
       " 'Weighted B(r)': array([ 0.03237899,         nan,         nan,  0.07275704,         nan,\n",
       "                nan,  0.16263686,         nan,         nan,  0.26209981,\n",
       "         0.32467554,  0.41203655,  0.50728057,  0.64485713,  0.76168442,\n",
       "         0.90462998,  1.09781011,  1.30091144,  1.48798074,  1.73822122,\n",
       "         2.02514622,  2.33904463,  2.64195389,  3.00535689,  3.3880274 ,\n",
       "         3.802703  ,  4.27777992,  4.80366978,  5.37412447,  5.98155395,\n",
       "         6.66799647,  7.42687839,  8.28739039,  9.22777128, 10.222189  ,\n",
       "        11.32798067, 12.54539751, 13.83854054, 15.14882969, 16.40889353,\n",
       "        17.63036797, 18.87387977, 20.05756342, 20.97050977, 21.48747382,\n",
       "        21.15351631, 20.12973258, 19.53929027, 19.89647523, 21.69463222,\n",
       "        22.85005999, 17.25095071, 13.73151141, 10.81736865,  8.55368592])}"
      ]
     },
     "execution_count": 60,
     "metadata": {},
     "output_type": "execute_result"
    }
   ],
   "source": [
    "sf"
   ]
  },
  {
   "cell_type": "code",
   "execution_count": 61,
   "id": "99930a34-2425-4e76-b313-925c96dba5fe",
   "metadata": {},
   "outputs": [],
   "source": [
    "good = (~m) & (iha > 0.001)\n",
    "sf[\"Unweighted mean velocity\"] = np.mean(vha[good])\n",
    "sig2 = sf[\"Unweighted sigma^2\"] = np.var(vha[good])\n",
    "v0w = sf[\"Weighted mean velocity\"] = np.average(vha, weights=iha)\n",
    "sf[\"Weighted sigma^2\"] = np.average((vha - v0w)**2, weights=iha)"
   ]
  },
  {
   "cell_type": "code",
   "execution_count": 62,
   "id": "2a3b56d1-a857-4b36-affa-14f7bc7651ae",
   "metadata": {},
   "outputs": [
    {
     "data": {
      "text/plain": [
       "{'Unweighted mean velocity': 16.776593419383627,\n",
       " 'Unweighted sigma^2': 9.375506960018136,\n",
       " 'Weighted mean velocity': 16.585946220297235,\n",
       " 'Weighted sigma^2': 9.22861264740973}"
      ]
     },
     "execution_count": 62,
     "metadata": {},
     "output_type": "execute_result"
    }
   ],
   "source": [
    "{k: sf[k] for k in sf if \"sigma\" in k or \"mean\" in k}"
   ]
  },
  {
   "cell_type": "code",
   "execution_count": 63,
   "id": "b6e886b8-2cd4-4f4f-a883-e8d57b9d40d0",
   "metadata": {},
   "outputs": [],
   "source": [
    "import astropy.units as u"
   ]
  },
  {
   "cell_type": "code",
   "execution_count": 64,
   "id": "441e6be4-0302-43be-a24b-2e5e058281d0",
   "metadata": {},
   "outputs": [
    {
     "data": {
      "text/latex": [
       "$0.0010614511 \\; \\mathrm{pc}$"
      ],
      "text/plain": [
       "<Quantity 0.00106145 pc>"
      ]
     },
     "execution_count": 64,
     "metadata": {},
     "output_type": "execute_result"
    }
   ],
   "source": [
    "D = 0.410 * u.kpc\n",
    "pix_arcsec = 0.534\n",
    "pix_pc = (pix_arcsec * (D / u.pc) * u.au).to(u.pc)\n",
    "pix_pc"
   ]
  },
  {
   "cell_type": "code",
   "execution_count": 65,
   "id": "b58cf637-8457-45c2-be94-e871c9076e0e",
   "metadata": {},
   "outputs": [],
   "source": [
    "sf[\"sep, pc\"] = 10**sf[\"log10 r\"] * pix_pc.value"
   ]
  },
  {
   "cell_type": "code",
   "execution_count": 66,
   "id": "9b046bb1-37e2-4e35-8206-51075de68951",
   "metadata": {},
   "outputs": [],
   "source": [
    "import numpy as np\n",
    "\n",
    "\n",
    "def bfunc00(r, r0, sig2, m):\n",
    "    \"Simple 3-parameter structure function\"\n",
    "    C = 1.0 / (1.0 + (r / r0)**m)\n",
    "    return 2.0 * sig2 * (1.0 - C)\n",
    "\n",
    "def seeing(r, s0):\n",
    "    return (np.tanh((r / (2.0 * s0))**2))**2\n",
    "\n",
    "def bfunc01(r, r0, sig2, m, s0):\n",
    "    \"Structure function with added seeing (scale `s0`)\"\n",
    "    return seeing(r, s0) * bfunc00(r, r0, sig2, m)\n",
    "\n",
    "def bfunc02(r, r0, sig2, m, s0, noise):\n",
    "    \"Structure function with added seeing (scale `s0`) and noise\"\n",
    "    return seeing(r, s0) * bfunc00(r, r0, sig2, m) + noise\n"
   ]
  },
  {
   "cell_type": "code",
   "execution_count": 67,
   "id": "392020d5-6f59-40f8-a546-47681061261d",
   "metadata": {},
   "outputs": [],
   "source": [
    "from matplotlib import pyplot as plt\n",
    "import seaborn as sns\n",
    "sns.set_color_codes()\n",
    "sns.set_context(\"talk\")"
   ]
  },
  {
   "cell_type": "code",
   "execution_count": 78,
   "id": "813f8743-9536-4e03-9541-4c054c9c25d5",
   "metadata": {},
   "outputs": [
    {
     "data": {
      "image/png": "[encoded data removed]",
      "text/plain": [
       "<Figure size 720x720 with 1 Axes>"
      ]
     },
     "metadata": {
      "needs_background": "light"
     },
     "output_type": "display_data"
    }
   ],
   "source": [
    "fig, ax = plt.subplots(figsize=(10, 10))\n",
    "rgrid = np.logspace(\n",
    "    np.log10(sf[\"sep, pc\"][0]),\n",
    "    np.log10(sf[\"sep, pc\"][-1]),\n",
    "    200\n",
    ")\n",
    "    \n",
    "ax.plot(\n",
    "    \"sep, pc\", \"Unweighted B(r)\", data=sf,\n",
    "    linestyle=\"none\",\n",
    "    marker=\"o\", label=\"unweighted\",\n",
    ")\n",
    "ax.plot(\n",
    "    \"sep, pc\", \"Weighted B(r)\", data=sf,\n",
    "    linestyle=\"none\",\n",
    "    marker=\".\", label=\"weighted\",\n",
    ")\n",
    "ax.axhline(sf[\"Unweighted sigma^2\"], linestyle=\"dashed\")\n",
    "\n",
    "rgrid = np.logspace(-3.0, -0.2)\n",
    "ax.plot(\n",
    "    rgrid, \n",
    "#    bfunc02(rgrid, r0=0.044, sig2=sig2, m=1.48, s0=0.001, noise=0.019),\n",
    "    bfunc02(rgrid, r0=0.050, sig2=sig2, m=1.48, s0=0.0009, noise=0.019),\n",
    "    color=\"m\", linestyle=\"dashed\",\n",
    "    label=fr\"$B(r)$\",\n",
    ")\n",
    "r0 = 0.04\n",
    "mm = 1.2\n",
    "ax.plot(\n",
    "    rgrid, \n",
    "    sig2 * (rgrid / r0)**mm,\n",
    "    color=\"g\", linestyle=\"solid\",\n",
    "    label=fr\"$s^{{{mm}}}$\",\n",
    ")\n",
    "\n",
    "\n",
    "\n",
    "ax.legend()\n",
    "ax.set(\n",
    "    xscale=\"log\",\n",
    "    yscale=\"log\",\n",
    "    xlabel=\"Separation, pc\",\n",
    "    ylabel=r\"$B(r)$ (km/s)$^2$\",\n",
    "    ylim=[2e-2, 30.],\n",
    ");"
   ]
  },
  {
   "cell_type": "code",
   "execution_count": 79,
   "id": "e3d6e10c-3662-4e80-9523-abd7403796a4",
   "metadata": {},
   "outputs": [],
   "source": [
    "import json\n",
    "\n",
    "class MyEncoder(json.JSONEncoder):\n",
    "    def default(self, obj):\n",
    "        if isinstance(obj, np.integer):\n",
    "            return int(obj)\n",
    "        elif isinstance(obj, np.floating):\n",
    "            return float(obj)\n",
    "        elif isinstance(obj, np.ndarray):\n",
    "            return obj.tolist()\n",
    "        else:\n",
    "            return super(MyEncoder, self).default(obj)"
   ]
  },
  {
   "cell_type": "code",
   "execution_count": 74,
   "id": "135ab0ee-cd36-4719-b873-d22736af8750",
   "metadata": {},
   "outputs": [],
   "source": [
    "jsonfilename = f\"orion-strucfunc-ha.json\"\n",
    "with open(jsonfilename, \"w\") as f:\n",
    "    json.dump(sf, fp=f, indent=3, cls=MyEncoder)"
   ]
  },
  {
   "cell_type": "code",
   "execution_count": null,
   "id": "d2cfb345-c57f-4ab2-8e29-0ec82a45e9be",
   "metadata": {},
   "outputs": [],
   "source": []
  }
 ],
 "metadata": {
  "kernelspec": {
   "display_name": "Python 3",
   "language": "python",
   "name": "python3"
  },
  "language_info": {
   "codemirror_mode": {
    "name": "ipython",
    "version": 3
   },
   "file_extension": ".py",
   "mimetype": "text/x-python",
   "name": "python",
   "nbconvert_exporter": "python",
   "pygments_lexer": "ipython3",
   "version": "3.9.4"
  }
 },
 "nbformat": 4,
 "nbformat_minor": 5
}
