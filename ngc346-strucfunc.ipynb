{
 "cells": [
  {
   "cell_type": "markdown",
   "id": "60213ed2",
   "metadata": {},
   "source": [
    "# Structure function (and other statistics) for NGC 346 MUSE map"
   ]
  },
  {
   "cell_type": "code",
   "execution_count": 1,
   "id": "6bfbc677",
   "metadata": {},
   "outputs": [],
   "source": [
    "import numpy as np\n",
    "from astropy.io import fits"
   ]
  },
  {
   "cell_type": "code",
   "execution_count": 2,
   "id": "a18769e0",
   "metadata": {},
   "outputs": [],
   "source": [
    "import sys\n",
    "sys.path.append(\"../muse-strucfunc\")\n",
    "import strucfunc\n"
   ]
  },
  {
   "cell_type": "code",
   "execution_count": null,
   "id": "54aa97d9",
   "metadata": {},
   "outputs": [],
   "source": []
  }
 ],
 "metadata": {
  "jupytext": {
   "formats": "ipynb,auto:light,md"
  },
  "kernelspec": {
   "display_name": "Python 3",
   "language": "python",
   "name": "python3"
  },
  "language_info": {
   "codemirror_mode": {
    "name": "ipython",
    "version": 3
   },
   "file_extension": ".py",
   "mimetype": "text/x-python",
   "name": "python",
   "nbconvert_exporter": "python",
   "pygments_lexer": "ipython3",
   "version": "3.9.4"
  }
 },
 "nbformat": 4,
 "nbformat_minor": 5
}
