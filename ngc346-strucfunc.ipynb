{
 "cells": [
  {
   "cell_type": "markdown",
   "id": "51e7086a",
   "metadata": {},
   "source": [
    "# Structure function (and other statistics) for NGC 346 MUSE map"
   ]
  },
  {
   "cell_type": "code",
   "execution_count": 1,
   "id": "bcc96a1b",
   "metadata": {},
   "outputs": [],
   "source": [
    "import numpy as np\n",
    "from astropy.io import fits"
   ]
  },
  {
   "cell_type": "code",
   "execution_count": 2,
   "id": "2da176ea",
   "metadata": {},
   "outputs": [],
   "source": [
    "import sys\n",
    "sys.path.append(\"../muse-strucfunc\")\n",
    "import strucfunc\n"
   ]
  },
  {
   "cell_type": "markdown",
   "id": "732056d4",
   "metadata": {},
   "source": [
    "Load the moment maps from FITS files"
   ]
  },
  {
   "cell_type": "code",
   "execution_count": 3,
   "id": "0b36446d",
   "metadata": {},
   "outputs": [
    {
     "name": "stdout",
     "output_type": "stream",
     "text": [
      "Filename: data/NGC346/ngc346-hi-6563-bin01-vmean.fits\n",
      "No.    Name      Ver    Type      Cards   Dimensions   Format\n",
      "  0  PRIMARY       1 PrimaryHDU    1953   ()      \n",
      "  1  DATA          1 ImageHDU        40   (346, 326)   float32   \n",
      "  2  STAT          1 ImageHDU        40   (346, 326)   float32   \n"
     ]
    }
   ],
   "source": [
    "hdu = fits.open(\"data/NGC346/ngc346-hi-6563-bin01-vmean.fits\")\n",
    "hdu.info()"
   ]
  },
  {
   "cell_type": "code",
   "execution_count": 12,
   "id": "141d232c",
   "metadata": {},
   "outputs": [],
   "source": [
    "vha = hdu[\"DATA\"].data.astype(\"float\")"
   ]
  },
  {
   "cell_type": "code",
   "execution_count": 19,
   "id": "03796a89",
   "metadata": {},
   "outputs": [],
   "source": [
    "iha = fits.open(\n",
    "    \"data/NGC346/ngc346-hi-6563-bin01-vmean.fits\"\n",
    ")[\"DATA\"].data.astype(\"float\")"
   ]
  },
  {
   "cell_type": "markdown",
   "id": "459e99e3",
   "metadata": {},
   "source": [
    "Note that we explicitly set the dtype because MPDAF saves the FITS files in 32-bit format to save space, but my strucfunc library requires default floats. \n",
    "\n",
    "Now, deal with bad pixels.  Set velocities to the mean and intenisty to zero."
   ]
  },
  {
   "cell_type": "code",
   "execution_count": 20,
   "id": "d65aa608",
   "metadata": {},
   "outputs": [],
   "source": [
    "m = ~np.isfinite(iha * vha) | (iha < 0.0)\n",
    "iha[m] = 0.0\n",
    "vha[m] = np.nanmean(vha)\n",
    "iha /= iha.max()"
   ]
  },
  {
   "cell_type": "markdown",
   "id": "f3c4b6c8",
   "metadata": {},
   "source": [
    "## Hα structure function\n",
    "\n",
    "### Calculate the structure function"
   ]
  },
  {
   "cell_type": "code",
   "execution_count": 22,
   "id": "53e83008",
   "metadata": {},
   "outputs": [],
   "source": [
    "sf = strucfunc.strucfunc_numba_parallel(vha, wmap=iha)"
   ]
  },
  {
   "cell_type": "code",
   "execution_count": 23,
   "id": "ea693dd5",
   "metadata": {},
   "outputs": [
    {
     "data": {
      "text/plain": [
       "{'log10 r': array([0.  , 0.15, 0.3 , 0.45, 0.6 , 0.75, 0.9 , 1.05, 1.2 , 1.35, 1.5 ,\n",
       "        1.65, 1.8 , 1.95, 2.1 , 2.25, 2.4 ]),\n",
       " 'Sum dv^2': array([1.72549909e+05, 6.06096030e+05, 2.12603202e+06, 7.09808637e+06,\n",
       "        2.18602037e+07, 5.86069126e+07, 1.64325788e+08, 3.99954576e+08,\n",
       "        9.66843788e+08, 2.27012301e+09, 5.30361394e+09, 1.18002418e+10,\n",
       "        2.44596794e+10, 4.84580822e+10, 8.20774248e+10, 9.88151205e+10,\n",
       "        6.75216964e+10]),\n",
       " 'Sum weights': array([7.55637906e+04, 1.50741791e+05, 3.75728977e+05, 8.22637753e+05,\n",
       "        1.78464690e+06, 3.39121273e+06, 7.29269069e+06, 1.37723208e+07,\n",
       "        2.71574191e+07, 5.20925373e+07, 1.00680289e+08, 1.87397150e+08,\n",
       "        3.36754552e+08, 5.71825028e+08, 8.79807705e+08, 1.08539305e+09,\n",
       "        6.49717216e+08]),\n",
       " 'Sum w * dv^2': array([1.29744297e+05, 4.55124210e+05, 1.59587167e+06, 5.31716089e+06,\n",
       "        1.63083005e+07, 4.35367974e+07, 1.21671404e+08, 2.95523084e+08,\n",
       "        7.13228962e+08, 1.67121255e+09, 3.89675407e+09, 8.65375548e+09,\n",
       "        1.79308827e+10, 3.54995585e+10, 6.00499480e+10, 7.22905277e+10,\n",
       "        4.94738490e+10]),\n",
       " 'N pairs': array([    104054,     207621,     517601,    1133559,    2459459,\n",
       "           4673808,   10048208,   18966453,   37369031,   71622563,\n",
       "         138336753,  257297286,  461937045,  783985757, 1207776491,\n",
       "        1498666533,  902948609]),\n",
       " 'Unweighted B(r)': array([ 1.65827272,  2.91924242,  4.10747278,  6.26177055,  8.88821635,\n",
       "        12.53943521, 16.35374067, 21.08747355, 25.87286215, 31.69564057,\n",
       "        38.33843013, 45.86228624, 52.95024436, 61.80990122, 67.95746182,\n",
       "        65.93536212, 74.77911338]),\n",
       " 'Weighted B(r)': array([ 1.71701679,  3.01923047,  4.2474011 ,  6.46355078,  9.13811043,\n",
       "        12.83812042, 16.68402097, 21.45775498, 26.26276675, 32.08161154,\n",
       "        38.7042399 , 46.17869317, 53.24614792, 62.08115564, 68.25349186,\n",
       "        66.60308689, 76.14674169])}"
      ]
     },
     "execution_count": 23,
     "metadata": {},
     "output_type": "execute_result"
    }
   ],
   "source": [
    "sf"
   ]
  },
  {
   "cell_type": "code",
   "execution_count": 31,
   "id": "ef0057e2",
   "metadata": {},
   "outputs": [
    {
     "data": {
      "text/plain": [
       "29.535569331405828"
      ]
     },
     "execution_count": 31,
     "metadata": {},
     "output_type": "execute_result"
    }
   ],
   "source": [
    "sig2 = np.var(vha)\n",
    "sig2"
   ]
  },
  {
   "cell_type": "code",
   "execution_count": 45,
   "id": "b0ad0a62",
   "metadata": {},
   "outputs": [],
   "source": [
    "good = (~m) & (iha > 0.001)\n",
    "sf[\"Unweighted mean velocity\"] = np.mean(vha[good])\n",
    "sf[\"Unweighted sigma^2\"] = np.var(vha[good])\n",
    "v0w = sf[\"Weighted mean velocity\"] = np.average(vha, weights=iha)\n",
    "sf[\"Weighted sigma^2\"] = np.average((vha - v0w)**2, weights=iha)\n"
   ]
  },
  {
   "cell_type": "code",
   "execution_count": 48,
   "id": "44dfa20a",
   "metadata": {},
   "outputs": [
    {
     "data": {
      "text/plain": [
       "{'Unweighted mean velocity': 166.113623219373,\n",
       " 'Unweighted sigma^2': 31.87910585532852,\n",
       " 'Weighted mean velocity': 166.30553466671546,\n",
       " 'Weighted sigma^2': 32.16184898926429}"
      ]
     },
     "execution_count": 48,
     "metadata": {},
     "output_type": "execute_result"
    }
   ],
   "source": [
    "{k: sf[k] for k in sf if \"sigma\" in k or \"mean\" in k}"
   ]
  },
  {
   "cell_type": "code",
   "execution_count": 33,
   "id": "2e74e86a",
   "metadata": {},
   "outputs": [],
   "source": [
    "import astropy.units as u"
   ]
  },
  {
   "cell_type": "markdown",
   "id": "3a10a1e4",
   "metadata": {},
   "source": [
    "Convert pixels to parsecs at distance to SMC:"
   ]
  },
  {
   "cell_type": "code",
   "execution_count": 35,
   "id": "ed35a319",
   "metadata": {},
   "outputs": [
    {
     "data": {
      "text/latex": [
       "$0.059826008 \\; \\mathrm{pc}$"
      ],
      "text/plain": [
       "<Quantity 0.05982601 pc>"
      ]
     },
     "execution_count": 35,
     "metadata": {},
     "output_type": "execute_result"
    }
   ],
   "source": [
    "D = 61.7 * u.kpc\n",
    "pix_pc = (0.2 * (D / u.pc) * u.au).to(u.pc)\n",
    "pix_pc"
   ]
  },
  {
   "cell_type": "code",
   "execution_count": 36,
   "id": "14eaa0ed",
   "metadata": {},
   "outputs": [],
   "source": [
    "sf[\"sep, pc\"] = 10**sf[\"log10 r\"] * pix_pc.value"
   ]
  },
  {
   "cell_type": "markdown",
   "id": "a85c1f71",
   "metadata": {},
   "source": [
    "### Plot the Hα structure function"
   ]
  },
  {
   "cell_type": "code",
   "execution_count": 26,
   "id": "6f61d3df",
   "metadata": {},
   "outputs": [],
   "source": [
    "from matplotlib import pyplot as plt\n",
    "import seaborn as sns\n",
    "sns.set_color_codes()\n",
    "sns.set_context(\"talk\")"
   ]
  },
  {
   "cell_type": "code",
   "execution_count": 105,
   "id": "39b25018",
   "metadata": {},
   "outputs": [
    {
     "data": {
      "image/png": "[encoded data removed]",
      "text/plain": [
       "<Figure size 360x360 with 1 Axes>"
      ]
     },
     "metadata": {
      "needs_background": "light"
     },
     "output_type": "display_data"
    }
   ],
   "source": [
    "fig, ax = plt.subplots(figsize=(5, 5))\n",
    "rgrid = np.logspace(\n",
    "    np.log10(sf[\"sep, pc\"][0]),\n",
    "    np.log10(sf[\"sep, pc\"][-1]),\n",
    "    200\n",
    ")\n",
    "    \n",
    "ax.plot(\n",
    "    \"sep, pc\", \"Unweighted B(r)\", data=sf,\n",
    "    linestyle=\"none\",\n",
    "    marker=\"o\", label=\"unweighted\",\n",
    ")\n",
    "ax.plot(\n",
    "    \"sep, pc\", \"Weighted B(r)\", data=sf,\n",
    "    linestyle=\"none\",\n",
    "    marker=\".\", label=\"weighted\",\n",
    ")\n",
    "ax.axhline(sig2, linestyle=\"dashed\")\n",
    "\n",
    "rgrid = np.logspace(-1.2, 1.2)\n",
    "mm = 0.66\n",
    "ax.plot(\n",
    "    rgrid, 25*rgrid**mm,\n",
    "    color=\"r\", linestyle=\"dashed\",\n",
    "    label=fr\"$s^{{{mm}}}$\",\n",
    ")\n",
    "mm = 1.05\n",
    "ax.plot(\n",
    "    rgrid, 38*rgrid**mm,\n",
    "    color=\"m\", linestyle=\"dashed\",\n",
    "    label=fr\"$s^{{{mm}}}$\",\n",
    ")\n",
    "\n",
    "ax.legend()\n",
    "ax.set(\n",
    "    xscale=\"log\",\n",
    "    yscale=\"log\",\n",
    "    xlabel=\"Separation, pc\",\n",
    "    ylabel=r\"$B(r)$ (km/s)$^2$\",\n",
    "    ylim=[0.5, 1.5e3],\n",
    ");"
   ]
  },
  {
   "cell_type": "markdown",
   "id": "35cc2cb8",
   "metadata": {},
   "source": [
    "I am using the same y-axis scale as for 30 Dor.  The structure function starts off the same at small separations, but levels off at a much lower value.\n",
    "\n",
    "Strangely, the weighted and unweighted values are almost identical. "
   ]
  },
  {
   "cell_type": "markdown",
   "id": "3eded261",
   "metadata": {},
   "source": [
    "### Save the Hα structure function to JSON file\n",
    "\n",
    "This is so we can do a better version of the plot later (as in tarantula-strucfunc-plot-ha.pdf)"
   ]
  },
  {
   "cell_type": "code",
   "execution_count": 50,
   "id": "576eeaea",
   "metadata": {},
   "outputs": [],
   "source": [
    "import json\n",
    "\n",
    "class MyEncoder(json.JSONEncoder):\n",
    "    def default(self, obj):\n",
    "        if isinstance(obj, np.integer):\n",
    "            return int(obj)\n",
    "        elif isinstance(obj, np.floating):\n",
    "            return float(obj)\n",
    "        elif isinstance(obj, np.ndarray):\n",
    "            return obj.tolist()\n",
    "        else:\n",
    "            return super(MyEncoder, self).default(obj)"
   ]
  },
  {
   "cell_type": "code",
   "execution_count": null,
   "id": "af00af7d",
   "metadata": {},
   "outputs": [],
   "source": [
    "jsonfilename = f\"ngc346-strucfunc-ha.json\"\n",
    "with open(jsonfilename, \"w\") as f:\n",
    "    json.dump(sf, fp=f, indent=3, cls=MyEncoder)\n",
    "\n"
   ]
  },
  {
   "cell_type": "markdown",
   "id": "54edf294",
   "metadata": {},
   "source": [
    "### Hα structure function conclusions\n",
    "\n",
    "The correlation length is about 1.5 pc. \n",
    "\n",
    "The plane-of-sky sigma is 5.65 km/s\n",
    "\n",
    "These are consistent with the trends of our other sources, given the size and luminosity of NGC 346."
   ]
  },
  {
   "cell_type": "markdown",
   "id": "dee196d3",
   "metadata": {},
   "source": [
    "## [S II] structure function"
   ]
  },
  {
   "cell_type": "code",
   "execution_count": 54,
   "id": "60ea490c",
   "metadata": {},
   "outputs": [],
   "source": [
    "isii = fits.open(\n",
    "    \"data/NGC346/ngc346-sii-6716-bin01-sum.fits\"\n",
    ")[\"DATA\"].data.astype(\"float\")\n",
    "vsii = fits.open(\n",
    "    \"data/NGC346/ngc346-sii-6716-bin01-vmean.fits\"\n",
    ")[\"DATA\"].data.astype(\"float\")\n",
    "\n"
   ]
  },
  {
   "cell_type": "code",
   "execution_count": 55,
   "id": "c0895413",
   "metadata": {},
   "outputs": [],
   "source": [
    "m = ~np.isfinite(isii * vsii) | (isii < 0.0)\n",
    "isii[m] = 0.0\n",
    "vsii[m] = np.nanmean(vsii)\n",
    "isii /= isii.max()"
   ]
  },
  {
   "cell_type": "code",
   "execution_count": 70,
   "id": "1a4ff048",
   "metadata": {},
   "outputs": [],
   "source": [
    "sf_sii = strucfunc.strucfunc_numba_parallel(\n",
    "    vsii, \n",
    "    wmap=isii\n",
    ")"
   ]
  },
  {
   "cell_type": "code",
   "execution_count": 71,
   "id": "09fb84af",
   "metadata": {},
   "outputs": [],
   "source": [
    "good = (~m) & (isii > 0.001)\n",
    "sf_sii[\"Unweighted mean velocity\"] = np.mean(vsii[good])\n",
    "sf_sii[\"Unweighted sigma^2\"] = np.var(vsii[good])\n",
    "v0w = sf_sii[\"Weighted mean velocity\"] = np.average(\n",
    "    vsii, weights=isii\n",
    ")\n",
    "sf_sii[\"Weighted sigma^2\"] = np.average(\n",
    "    (vsii - v0w)**2, \n",
    "    weights=isii\n",
    ")"
   ]
  },
  {
   "cell_type": "code",
   "execution_count": 72,
   "id": "d0cd1b54",
   "metadata": {},
   "outputs": [
    {
     "data": {
      "text/plain": [
       "{'Unweighted mean velocity': 163.5223681237438,\n",
       " 'Unweighted sigma^2': 59.20581667307733,\n",
       " 'Weighted mean velocity': 162.0136622998067,\n",
       " 'Weighted sigma^2': 63.51708462238277}"
      ]
     },
     "execution_count": 72,
     "metadata": {},
     "output_type": "execute_result"
    }
   ],
   "source": [
    "{k: sf_sii[k] for k in sf_sii \n",
    " if \"sigma\" in k or \"mean\" in k}"
   ]
  },
  {
   "cell_type": "code",
   "execution_count": 73,
   "id": "da66a77e",
   "metadata": {},
   "outputs": [],
   "source": [
    "sf_sii[\"sep, pc\"] = 10**sf_sii[\"log10 r\"] * pix_pc.value"
   ]
  },
  {
   "cell_type": "code",
   "execution_count": 74,
   "id": "dfba63d0",
   "metadata": {},
   "outputs": [
    {
     "data": {
      "image/png": "[encoded data removed]",
      "text/plain": [
       "<Figure size 360x360 with 1 Axes>"
      ]
     },
     "metadata": {
      "needs_background": "light"
     },
     "output_type": "display_data"
    }
   ],
   "source": [
    "fig, ax = plt.subplots(figsize=(5, 5))\n",
    "    \n",
    "ax.plot(\n",
    "    \"sep, pc\", \"Unweighted B(r)\", data=sf_sii,\n",
    "    linestyle=\"none\",\n",
    "    marker=\"o\", label=\"unweighted\",\n",
    ")\n",
    "ax.plot(\n",
    "    \"sep, pc\", \"Weighted B(r)\", data=sf_sii,\n",
    "    linestyle=\"none\",\n",
    "    marker=\".\", label=\"weighted\",\n",
    ")\n",
    "ax.axhline(sf_sii[\"Unweighted sigma^2\"], \n",
    "           linestyle=\"dashed\",\n",
    "          )\n",
    "ax.legend()\n",
    "ax.set(\n",
    "    xscale=\"log\",\n",
    "    yscale=\"log\",\n",
    "    xlabel=\"Separation, pc\",\n",
    "    ylabel=r\"$B(r)$ (km/s)$^2$\",\n",
    "    ylim=[0.5, 1.5e3],\n",
    ");"
   ]
  },
  {
   "cell_type": "code",
   "execution_count": 75,
   "id": "8bd5c462",
   "metadata": {},
   "outputs": [],
   "source": [
    "jsonfilename = f\"ngc346-strucfunc-sii.json\"\n",
    "with open(jsonfilename, \"w\") as f:\n",
    "    json.dump(sf_sii, fp=f, indent=3, cls=MyEncoder)"
   ]
  },
  {
   "cell_type": "markdown",
   "id": "b520506d",
   "metadata": {},
   "source": [
    "This is a lot flatter than the Hα version.  Lots of this is due to noise at the smallest scale.\n",
    "\n",
    "We can try and correct that by just subtracting it off:"
   ]
  },
  {
   "cell_type": "code",
   "execution_count": 96,
   "id": "75aec8e4",
   "metadata": {},
   "outputs": [
    {
     "data": {
      "image/png": "[encoded data removed]",
      "text/plain": [
       "<Figure size 360x360 with 1 Axes>"
      ]
     },
     "metadata": {
      "needs_background": "light"
     },
     "output_type": "display_data"
    }
   ],
   "source": [
    "fig, ax = plt.subplots(figsize=(5, 5))\n",
    "\n",
    "sep = sf_sii[\"sep, pc\"]\n",
    "\n",
    "# Assume fraction `frac` of variation at small scales is noise\n",
    "bu0 = sf_sii[\"Unweighted B(r)\"][0]\n",
    "bw0 = sf_sii[\"Weighted B(r)\"][0]\n",
    "frac = 0.92\n",
    "bu = sf_sii[\"Unweighted B(r)\"] - frac*bu0\n",
    "bw = sf_sii[\"Weighted B(r)\"] - frac*bw0\n",
    "\n",
    "ax.plot(\n",
    "    sep, bu,\n",
    "    linestyle=\"none\",\n",
    "    marker=\"o\", label=\"unweighted\",\n",
    ")\n",
    "ax.plot(\n",
    "    sep, bw,\n",
    "    linestyle=\"none\",\n",
    "    marker=\".\", label=\"weighted\",\n",
    ")\n",
    "rgrid = np.logspace(-1.2, 1.2)\n",
    "mm = 0.66\n",
    "ax.plot(\n",
    "    rgrid, 25*rgrid**mm,\n",
    "    color=\"r\", linestyle=\"dashed\",\n",
    "    label=fr\"$s^{{{mm}}}$\",\n",
    ")\n",
    "\n",
    "sig2_sii = sf_sii[\"Unweighted sigma^2\"] - 0.5*frac*bu[0]\n",
    "ax.axhline(\n",
    "    sig2_sii, \n",
    "    linestyle=\"dashed\",\n",
    ")\n",
    "ax.legend()\n",
    "ax.set(\n",
    "    xscale=\"log\",\n",
    "    yscale=\"log\",\n",
    "    xlabel=\"Separation, pc\",\n",
    "    ylabel=r\"$B(r)$ (km/s)$^2$\",\n",
    "    ylim=[0.5, 1.5e3],\n",
    ");"
   ]
  },
  {
   "cell_type": "code",
   "execution_count": 97,
   "id": "ac57ddb8",
   "metadata": {},
   "outputs": [
    {
     "data": {
      "text/plain": [
       "7.637564430556536"
      ]
     },
     "execution_count": 97,
     "metadata": {},
     "output_type": "execute_result"
    }
   ],
   "source": [
    "np.sqrt(sig2_sii)"
   ]
  },
  {
   "cell_type": "markdown",
   "id": "a4372d4a",
   "metadata": {},
   "source": [
    "By subtracting just the right amount of noise, it is possible to make the unweighted [S II] structure function into a perfect straight line! \n",
    "\n",
    "(I am assuming a 92% noise contribution to the observed strucfunc at the smallest separation). \n",
    "\n",
    "The fact that it keeps climbing at all scales implies that the true correlation length is larger than the FOV of the observations.\n",
    "\n",
    "*But this also implies that the true $\\sigma$ is larger than the value that we measure*"
   ]
  },
  {
   "cell_type": "code",
   "execution_count": null,
   "id": "4acae9d9",
   "metadata": {},
   "outputs": [],
   "source": []
  }
 ],
 "metadata": {
  "jupytext": {
   "formats": "ipynb,auto:light,md"
  },
  "kernelspec": {
   "display_name": "Python 3",
   "language": "python",
   "name": "python3"
  },
  "language_info": {
   "codemirror_mode": {
    "name": "ipython",
    "version": 3
   },
   "file_extension": ".py",
   "mimetype": "text/x-python",
   "name": "python",
   "nbconvert_exporter": "python",
   "pygments_lexer": "ipython3",
   "version": "3.9.4"
  }
 },
 "nbformat": 4,
 "nbformat_minor": 5
}
