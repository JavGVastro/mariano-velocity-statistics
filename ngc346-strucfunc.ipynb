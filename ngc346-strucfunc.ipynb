{
 "cells": [
  {
   "cell_type": "markdown",
   "id": "196f38c5",
   "metadata": {},
   "source": [
    "# Structure function (and other statistics) for NGC 346 MUSE map"
   ]
  },
  {
   "cell_type": "code",
   "execution_count": 1,
   "id": "177fb204",
   "metadata": {},
   "outputs": [],
   "source": [
    "import numpy as np\n",
    "from astropy.io import fits"
   ]
  },
  {
   "cell_type": "code",
   "execution_count": 2,
   "id": "a976a75f",
   "metadata": {},
   "outputs": [],
   "source": [
    "import sys\n",
    "sys.path.append(\"../muse-strucfunc\")\n",
    "import strucfunc\n"
   ]
  },
  {
   "cell_type": "markdown",
   "id": "ee5c9fd0",
   "metadata": {},
   "source": [
    "Load the moment maps from FITS files"
   ]
  },
  {
   "cell_type": "code",
   "execution_count": 3,
   "id": "9f8847ed",
   "metadata": {},
   "outputs": [
    {
     "name": "stdout",
     "output_type": "stream",
     "text": [
      "Filename: data/NGC346/ngc346-hi-6563-bin01-vmean.fits\n",
      "No.    Name      Ver    Type      Cards   Dimensions   Format\n",
      "  0  PRIMARY       1 PrimaryHDU    1953   ()      \n",
      "  1  DATA          1 ImageHDU        40   (346, 326)   float32   \n",
      "  2  STAT          1 ImageHDU        40   (346, 326)   float32   \n"
     ]
    }
   ],
   "source": [
    "hdu = fits.open(\"data/NGC346/ngc346-hi-6563-bin01-vmean.fits\")\n",
    "hdu.info()"
   ]
  },
  {
   "cell_type": "code",
   "execution_count": 4,
   "id": "aa4f79f9",
   "metadata": {},
   "outputs": [],
   "source": [
    "vha = hdu[\"DATA\"].data.astype(\"float\")"
   ]
  },
  {
   "cell_type": "code",
   "execution_count": 16,
   "id": "b3eea123",
   "metadata": {},
   "outputs": [],
   "source": [
    "iha = fits.open(\n",
    "    \"data/NGC346/ngc346-hi-6563-bin01-sum.fits\"\n",
    ")[\"DATA\"].data.astype(\"float\")"
   ]
  },
  {
   "cell_type": "markdown",
   "id": "052d9e55",
   "metadata": {},
   "source": [
    "Note that we explicitly set the dtype because MPDAF saves the FITS files in 32-bit format to save space, but my strucfunc library requires default floats. \n",
    "\n",
    "Now, deal with bad pixels.  Set velocities to the mean and intenisty to zero."
   ]
  },
  {
   "cell_type": "code",
   "execution_count": 17,
   "id": "b320d44a",
   "metadata": {},
   "outputs": [],
   "source": [
    "m = ~np.isfinite(iha * vha) | (iha < 0.0)\n",
    "iha[m] = 0.0\n",
    "vha[m] = np.nanmean(vha)\n",
    "iha /= iha.max()"
   ]
  },
  {
   "cell_type": "markdown",
   "id": "67c836bc",
   "metadata": {},
   "source": [
    "## Hα structure function\n",
    "\n",
    "### Calculate the structure function"
   ]
  },
  {
   "cell_type": "code",
   "execution_count": 18,
   "id": "35c792fe",
   "metadata": {},
   "outputs": [],
   "source": [
    "sf = strucfunc.strucfunc_numba_parallel(vha, wmap=iha)"
   ]
  },
  {
   "cell_type": "code",
   "execution_count": 19,
   "id": "474401bd",
   "metadata": {},
   "outputs": [
    {
     "data": {
      "text/plain": [
       "{'log10 r': array([0.  , 0.15, 0.3 , 0.45, 0.6 , 0.75, 0.9 , 1.05, 1.2 , 1.35, 1.5 ,\n",
       "        1.65, 1.8 , 1.95, 2.1 , 2.25, 2.4 ]),\n",
       " 'Sum dv^2': array([2.66543889e+05, 8.25160389e+05, 2.62782335e+06, 8.14753654e+06,\n",
       "        2.37613399e+07, 6.14184433e+07, 1.69965079e+08, 4.09892790e+08,\n",
       "        9.85175452e+08, 2.29605949e+09, 5.34527191e+09, 1.18579352e+10,\n",
       "        2.45499496e+10, 4.86152721e+10, 8.23702241e+10, 9.91384450e+10,\n",
       "        6.80043792e+10]),\n",
       " 'Sum weights': array([2.93993632e+02, 5.85689824e+02, 1.45161907e+03, 3.14613970e+03,\n",
       "        6.71094606e+03, 1.24834867e+04, 2.62012143e+04, 4.83122877e+04,\n",
       "        9.32443427e+04, 1.75055621e+05, 3.28258332e+05, 5.91045142e+05,\n",
       "        1.01445038e+06, 1.62526462e+06, 2.38562355e+06, 3.02706961e+06,\n",
       "        2.00396886e+06]),\n",
       " 'Sum w * dv^2': array([6.02318781e+02, 1.83620919e+03, 6.47040394e+03, 1.97600767e+04,\n",
       "        5.29104107e+04, 1.24350734e+05, 3.31345937e+05, 7.96942127e+05,\n",
       "        1.94383453e+06, 4.64033050e+06, 1.10155315e+07, 2.45177102e+07,\n",
       "        5.08224179e+07, 9.55487704e+07, 1.48983736e+08, 1.74543522e+08,\n",
       "        1.21658203e+08]),\n",
       " 'N pairs': array([    104587,     208648,     520205,    1139304,    2471945,\n",
       "           4697352,   10099031,   19062940,   37561316,   71992543,\n",
       "         139048421,  258605645,  464334357,  788409925, 1215667842,\n",
       "        1512081939,  920155198]),\n",
       " 'Unweighted B(r)': array([ 2.54853747,  3.95479654,  5.05151497,  7.15132795,  9.61240637,\n",
       "        13.07512047, 16.82984035, 21.50207627, 26.22845941, 31.89301829,\n",
       "        38.44180231, 45.85335006, 52.87127527, 61.66243033, 67.75717947,\n",
       "        65.56420156, 73.90533612]),\n",
       " 'Weighted B(r)': array([ 2.04874772,  3.13512223,  4.45737044,  6.2807372 ,  7.88419549,\n",
       "         9.96121808, 12.64620535, 16.49564046, 20.84667523, 26.5077492 ,\n",
       "        33.55750758, 41.4819587 , 50.0984756 , 58.78966968, 62.45064806,\n",
       "        57.66088816, 60.70862922])}"
      ]
     },
     "execution_count": 19,
     "metadata": {},
     "output_type": "execute_result"
    }
   ],
   "source": [
    "sf"
   ]
  },
  {
   "cell_type": "code",
   "execution_count": 20,
   "id": "2aeae162",
   "metadata": {},
   "outputs": [
    {
     "data": {
      "text/plain": [
       "29.535569331405828"
      ]
     },
     "execution_count": 20,
     "metadata": {},
     "output_type": "execute_result"
    }
   ],
   "source": [
    "sig2 = np.var(vha)\n",
    "sig2"
   ]
  },
  {
   "cell_type": "code",
   "execution_count": 21,
   "id": "2a2be756",
   "metadata": {},
   "outputs": [],
   "source": [
    "good = (~m) & (iha > 0.001)\n",
    "sf[\"Unweighted mean velocity\"] = np.mean(vha[good])\n",
    "sf[\"Unweighted sigma^2\"] = np.var(vha[good])\n",
    "v0w = sf[\"Weighted mean velocity\"] = np.average(vha, weights=iha)\n",
    "sf[\"Weighted sigma^2\"] = np.average((vha - v0w)**2, weights=iha)\n"
   ]
  },
  {
   "cell_type": "code",
   "execution_count": 22,
   "id": "3bae1b29",
   "metadata": {},
   "outputs": [
    {
     "data": {
      "text/plain": [
       "{'Unweighted mean velocity': 166.11362321937304,\n",
       " 'Unweighted sigma^2': 31.73183931940729,\n",
       " 'Weighted mean velocity': 165.5475716328708,\n",
       " 'Weighted sigma^2': 28.097200563424835}"
      ]
     },
     "execution_count": 22,
     "metadata": {},
     "output_type": "execute_result"
    }
   ],
   "source": [
    "{k: sf[k] for k in sf if \"sigma\" in k or \"mean\" in k}"
   ]
  },
  {
   "cell_type": "code",
   "execution_count": 23,
   "id": "2e8f225a",
   "metadata": {},
   "outputs": [],
   "source": [
    "import astropy.units as u"
   ]
  },
  {
   "cell_type": "markdown",
   "id": "f027da9e",
   "metadata": {},
   "source": [
    "Convert pixels to parsecs at distance to SMC:"
   ]
  },
  {
   "cell_type": "code",
   "execution_count": 24,
   "id": "a6846973",
   "metadata": {},
   "outputs": [
    {
     "data": {
      "text/latex": [
       "$0.059826008 \\; \\mathrm{pc}$"
      ],
      "text/plain": [
       "<Quantity 0.05982601 pc>"
      ]
     },
     "execution_count": 24,
     "metadata": {},
     "output_type": "execute_result"
    }
   ],
   "source": [
    "D = 61.7 * u.kpc\n",
    "pix_pc = (0.2 * (D / u.pc) * u.au).to(u.pc)\n",
    "pix_pc"
   ]
  },
  {
   "cell_type": "code",
   "execution_count": 25,
   "id": "6a0d9ea7",
   "metadata": {},
   "outputs": [],
   "source": [
    "sf[\"sep, pc\"] = 10**sf[\"log10 r\"] * pix_pc.value"
   ]
  },
  {
   "cell_type": "markdown",
   "id": "ac15a862",
   "metadata": {},
   "source": [
    "### Plot the Hα structure function"
   ]
  },
  {
   "cell_type": "code",
   "execution_count": 26,
   "id": "bed912ed",
   "metadata": {},
   "outputs": [],
   "source": [
    "from matplotlib import pyplot as plt\n",
    "import seaborn as sns\n",
    "sns.set_color_codes()\n",
    "sns.set_context(\"talk\")"
   ]
  },
  {
   "cell_type": "code",
   "execution_count": 27,
   "id": "c2df6a99",
   "metadata": {},
   "outputs": [
    {
     "data": {
      "image/png": "[encoded data removed]",
      "text/plain": [
       "<Figure size 360x360 with 1 Axes>"
      ]
     },
     "metadata": {
      "needs_background": "light"
     },
     "output_type": "display_data"
    }
   ],
   "source": [
    "fig, ax = plt.subplots(figsize=(5, 5))\n",
    "rgrid = np.logspace(\n",
    "    np.log10(sf[\"sep, pc\"][0]),\n",
    "    np.log10(sf[\"sep, pc\"][-1]),\n",
    "    200\n",
    ")\n",
    "    \n",
    "ax.plot(\n",
    "    \"sep, pc\", \"Unweighted B(r)\", data=sf,\n",
    "    linestyle=\"none\",\n",
    "    marker=\"o\", label=\"unweighted\",\n",
    ")\n",
    "ax.plot(\n",
    "    \"sep, pc\", \"Weighted B(r)\", data=sf,\n",
    "    linestyle=\"none\",\n",
    "    marker=\".\", label=\"weighted\",\n",
    ")\n",
    "ax.axhline(sig2, linestyle=\"dashed\")\n",
    "\n",
    "rgrid = np.logspace(-1.2, 1.2)\n",
    "mm = 0.66\n",
    "ax.plot(\n",
    "    rgrid, 25*rgrid**mm,\n",
    "    color=\"r\", linestyle=\"dashed\",\n",
    "    label=fr\"$s^{{{mm}}}$\",\n",
    ")\n",
    "mm = 1.05\n",
    "ax.plot(\n",
    "    rgrid, 38*rgrid**mm,\n",
    "    color=\"m\", linestyle=\"dashed\",\n",
    "    label=fr\"$s^{{{mm}}}$\",\n",
    ")\n",
    "\n",
    "ax.legend()\n",
    "ax.set(\n",
    "    xscale=\"log\",\n",
    "    yscale=\"log\",\n",
    "    xlabel=\"Separation, pc\",\n",
    "    ylabel=r\"$B(r)$ (km/s)$^2$\",\n",
    "    ylim=[0.5, 1.5e3],\n",
    ");"
   ]
  },
  {
   "cell_type": "markdown",
   "id": "dab2142b",
   "metadata": {},
   "source": [
    "I am using the same y-axis scale as for 30 Dor.  The structure function starts off the same at small separations, but levels off at a much lower value.\n",
    "\n",
    "I have now fixed the issue with the weighted version."
   ]
  },
  {
   "cell_type": "markdown",
   "id": "02c40d3d",
   "metadata": {},
   "source": [
    "### Save the Hα structure function to JSON file\n",
    "\n",
    "This is so we can do a better version of the plot later (as in tarantula-strucfunc-plot-ha.pdf)"
   ]
  },
  {
   "cell_type": "code",
   "execution_count": 28,
   "id": "769f5505",
   "metadata": {},
   "outputs": [],
   "source": [
    "import json\n",
    "\n",
    "class MyEncoder(json.JSONEncoder):\n",
    "    def default(self, obj):\n",
    "        if isinstance(obj, np.integer):\n",
    "            return int(obj)\n",
    "        elif isinstance(obj, np.floating):\n",
    "            return float(obj)\n",
    "        elif isinstance(obj, np.ndarray):\n",
    "            return obj.tolist()\n",
    "        else:\n",
    "            return super(MyEncoder, self).default(obj)"
   ]
  },
  {
   "cell_type": "code",
   "execution_count": 29,
   "id": "370d94d6",
   "metadata": {},
   "outputs": [],
   "source": [
    "jsonfilename = f\"ngc346-strucfunc-ha.json\"\n",
    "with open(jsonfilename, \"w\") as f:\n",
    "    json.dump(sf, fp=f, indent=3, cls=MyEncoder)\n",
    "\n"
   ]
  },
  {
   "cell_type": "markdown",
   "id": "7c88299e",
   "metadata": {},
   "source": [
    "### Hα structure function conclusions\n",
    "\n",
    "The correlation length is about 1.5 pc. \n",
    "\n",
    "The plane-of-sky sigma is 5.65 km/s\n",
    "\n",
    "These are consistent with the trends of our other sources, given the size and luminosity of NGC 346."
   ]
  },
  {
   "cell_type": "markdown",
   "id": "0b6e7934",
   "metadata": {},
   "source": [
    "## [S II] structure function"
   ]
  },
  {
   "cell_type": "code",
   "execution_count": 31,
   "id": "87fe7c75",
   "metadata": {},
   "outputs": [],
   "source": [
    "isii = fits.open(\n",
    "    \"data/NGC346/ngc346-sii-6716-bin01-sum.fits\"\n",
    ")[\"DATA\"].data.astype(\"float\")\n",
    "vsii = fits.open(\n",
    "    \"data/NGC346/ngc346-sii-6716-bin01-vmean.fits\"\n",
    ")[\"DATA\"].data.astype(\"float\")\n",
    "\n"
   ]
  },
  {
   "cell_type": "code",
   "execution_count": 32,
   "id": "9cef7633",
   "metadata": {},
   "outputs": [],
   "source": [
    "m = ~np.isfinite(isii * vsii) | (isii < 0.0)\n",
    "isii[m] = 0.0\n",
    "vsii[m] = np.nanmean(vsii)\n",
    "isii /= isii.max()"
   ]
  },
  {
   "cell_type": "code",
   "execution_count": 33,
   "id": "5cb2b181",
   "metadata": {},
   "outputs": [],
   "source": [
    "sf_sii = strucfunc.strucfunc_numba_parallel(\n",
    "    vsii, \n",
    "    wmap=isii\n",
    ")"
   ]
  },
  {
   "cell_type": "code",
   "execution_count": 34,
   "id": "a11fc0f7",
   "metadata": {},
   "outputs": [],
   "source": [
    "good = (~m) & (isii > 0.001)\n",
    "sf_sii[\"Unweighted mean velocity\"] = np.mean(vsii[good])\n",
    "sf_sii[\"Unweighted sigma^2\"] = np.var(vsii[good])\n",
    "v0w = sf_sii[\"Weighted mean velocity\"] = np.average(\n",
    "    vsii, weights=isii\n",
    ")\n",
    "sf_sii[\"Weighted sigma^2\"] = np.average(\n",
    "    (vsii - v0w)**2, \n",
    "    weights=isii\n",
    ")"
   ]
  },
  {
   "cell_type": "code",
   "execution_count": 35,
   "id": "26ecded9",
   "metadata": {},
   "outputs": [
    {
     "data": {
      "text/plain": [
       "{'Unweighted mean velocity': 163.5223681237438,\n",
       " 'Unweighted sigma^2': 59.20581667307733,\n",
       " 'Weighted mean velocity': 162.0136622998067,\n",
       " 'Weighted sigma^2': 63.51708462238277}"
      ]
     },
     "execution_count": 35,
     "metadata": {},
     "output_type": "execute_result"
    }
   ],
   "source": [
    "{k: sf_sii[k] for k in sf_sii \n",
    " if \"sigma\" in k or \"mean\" in k}"
   ]
  },
  {
   "cell_type": "code",
   "execution_count": 36,
   "id": "a7824e00",
   "metadata": {},
   "outputs": [],
   "source": [
    "sf_sii[\"sep, pc\"] = 10**sf_sii[\"log10 r\"] * pix_pc.value"
   ]
  },
  {
   "cell_type": "code",
   "execution_count": 37,
   "id": "0e8f4a9c",
   "metadata": {},
   "outputs": [
    {
     "data": {
      "image/png": "[encoded data removed]",
      "text/plain": [
       "<Figure size 360x360 with 1 Axes>"
      ]
     },
     "metadata": {
      "needs_background": "light"
     },
     "output_type": "display_data"
    }
   ],
   "source": [
    "fig, ax = plt.subplots(figsize=(5, 5))\n",
    "    \n",
    "ax.plot(\n",
    "    \"sep, pc\", \"Unweighted B(r)\", data=sf_sii,\n",
    "    linestyle=\"none\",\n",
    "    marker=\"o\", label=\"unweighted\",\n",
    ")\n",
    "ax.plot(\n",
    "    \"sep, pc\", \"Weighted B(r)\", data=sf_sii,\n",
    "    linestyle=\"none\",\n",
    "    marker=\".\", label=\"weighted\",\n",
    ")\n",
    "ax.axhline(sf_sii[\"Unweighted sigma^2\"], \n",
    "           linestyle=\"dashed\",\n",
    "          )\n",
    "ax.legend()\n",
    "ax.set(\n",
    "    xscale=\"log\",\n",
    "    yscale=\"log\",\n",
    "    xlabel=\"Separation, pc\",\n",
    "    ylabel=r\"$B(r)$ (km/s)$^2$\",\n",
    "    ylim=[0.5, 1.5e3],\n",
    ");"
   ]
  },
  {
   "cell_type": "code",
   "execution_count": 38,
   "id": "9df0eab6",
   "metadata": {},
   "outputs": [],
   "source": [
    "jsonfilename = f\"ngc346-strucfunc-sii.json\"\n",
    "with open(jsonfilename, \"w\") as f:\n",
    "    json.dump(sf_sii, fp=f, indent=3, cls=MyEncoder)"
   ]
  },
  {
   "cell_type": "markdown",
   "id": "7dfd10b4",
   "metadata": {},
   "source": [
    "This is a lot flatter than the Hα version.  Lots of this is due to noise at the smallest scale.\n",
    "\n",
    "We can try and correct that by just subtracting it off:"
   ]
  },
  {
   "cell_type": "code",
   "execution_count": 39,
   "id": "62055c65",
   "metadata": {},
   "outputs": [
    {
     "data": {
      "image/png": "[encoded data removed]",
      "text/plain": [
       "<Figure size 360x360 with 1 Axes>"
      ]
     },
     "metadata": {
      "needs_background": "light"
     },
     "output_type": "display_data"
    }
   ],
   "source": [
    "fig, ax = plt.subplots(figsize=(5, 5))\n",
    "\n",
    "sep = sf_sii[\"sep, pc\"]\n",
    "\n",
    "# Assume fraction `frac` of variation at small scales is noise\n",
    "bu0 = sf_sii[\"Unweighted B(r)\"][0]\n",
    "bw0 = sf_sii[\"Weighted B(r)\"][0]\n",
    "frac = 0.92\n",
    "bu = sf_sii[\"Unweighted B(r)\"] - frac*bu0\n",
    "bw = sf_sii[\"Weighted B(r)\"] - frac*bw0\n",
    "\n",
    "ax.plot(\n",
    "    sep, bu,\n",
    "    linestyle=\"none\",\n",
    "    marker=\"o\", label=\"unweighted\",\n",
    ")\n",
    "ax.plot(\n",
    "    sep, bw,\n",
    "    linestyle=\"none\",\n",
    "    marker=\".\", label=\"weighted\",\n",
    ")\n",
    "rgrid = np.logspace(-1.2, 1.2)\n",
    "mm = 0.66\n",
    "ax.plot(\n",
    "    rgrid, 25*rgrid**mm,\n",
    "    color=\"r\", linestyle=\"dashed\",\n",
    "    label=fr\"$s^{{{mm}}}$\",\n",
    ")\n",
    "\n",
    "sig2_sii = sf_sii[\"Unweighted sigma^2\"] - 0.5*frac*bu[0]\n",
    "ax.axhline(\n",
    "    sig2_sii, \n",
    "    linestyle=\"dashed\",\n",
    ")\n",
    "ax.legend()\n",
    "ax.set(\n",
    "    xscale=\"log\",\n",
    "    yscale=\"log\",\n",
    "    xlabel=\"Separation, pc\",\n",
    "    ylabel=r\"$B(r)$ (km/s)$^2$\",\n",
    "    ylim=[0.5, 1.5e3],\n",
    ");"
   ]
  },
  {
   "cell_type": "code",
   "execution_count": 40,
   "id": "8cecad42",
   "metadata": {},
   "outputs": [
    {
     "data": {
      "text/plain": [
       "7.637564430556536"
      ]
     },
     "execution_count": 40,
     "metadata": {},
     "output_type": "execute_result"
    }
   ],
   "source": [
    "np.sqrt(sig2_sii)"
   ]
  },
  {
   "cell_type": "markdown",
   "id": "8a7e70a4",
   "metadata": {},
   "source": [
    "By subtracting just the right amount of noise, it is possible to make the unweighted [S II] structure function into a perfect straight line! \n",
    "\n",
    "(I am assuming a 92% noise contribution to the observed strucfunc at the smallest separation). \n",
    "\n",
    "The fact that it keeps climbing at all scales implies that the true correlation length is larger than the FOV of the observations.\n",
    "\n",
    "*But this also implies that the true $\\sigma$ is larger than the value that we measure*"
   ]
  },
  {
   "cell_type": "markdown",
   "id": "67c934bf",
   "metadata": {},
   "source": [
    "Also, note that the intermediate part of the structure function is identical between Hα and [S II], with both having a slope of 2/3 and the same normalization: $B(r) = 25\\ (\\mathrm{km/s})^2$ at 1 pc.\n",
    "\n",
    "## An idea about how to improve the structure function fits\n",
    "\n",
    "1. What we could do is to incorporate the noise term and the seeing into the structure function model.\n",
    "    1. In some cases, the noise level can be determined independently.  For instance, in the MUSE data by propagation of errors in the moment calculations.\n",
    "2. Also, we can include the total $\\sigma^2$ and the $\\ell_0$ as fitting parameters, rather than determining them directly from the data\n",
    "    1. The reason for doing this is to allow a fit where $\\ell_0$ is bigger than our maximum separation (although of course neither $\\ell_0$ nor $\\sigma$ will be well-constrained in this case).\n",
    "3. So we now have five parameters:\n",
    "    1. $\\sigma$\n",
    "    2. $\\ell_0$\n",
    "    3. $m$\n",
    "    4. Seeing FWHM\n",
    "    5. Noise level\n",
    "4. We can maybe use MCMC to do the model fitting.  Then we can use priors to constrain some of the parameters. And we can construct the posterior distributions of all the parameters\n",
    "    1. In the case of the sparsely sampled observations, such as Hubble V and X, we will probably find severe degeneracies.  For instance between $m$ and the noise and the seeing. \n",
    "    2. But at least we will be able to quantify this"
   ]
  },
  {
   "cell_type": "code",
   "execution_count": null,
   "id": "8647755f",
   "metadata": {},
   "outputs": [],
   "source": []
  }
 ],
 "metadata": {
  "jupytext": {
   "formats": "ipynb,py:light,md"
  },
  "kernelspec": {
   "display_name": "Python 3",
   "language": "python",
   "name": "python3"
  },
  "language_info": {
   "codemirror_mode": {
    "name": "ipython",
    "version": 3
   },
   "file_extension": ".py",
   "mimetype": "text/x-python",
   "name": "python",
   "nbconvert_exporter": "python",
   "pygments_lexer": "ipython3",
   "version": "3.9.4"
  }
 },
 "nbformat": 4,
 "nbformat_minor": 5
}
